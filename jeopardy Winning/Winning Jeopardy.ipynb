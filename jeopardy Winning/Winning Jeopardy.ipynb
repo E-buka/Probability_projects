{
 "cells": [
  {
   "cell_type": "markdown",
   "id": "c5668db5-3d1e-48dc-ad71-9aa9620bc807",
   "metadata": {},
   "source": [
    "### Winning Jeopardy"
   ]
  },
  {
   "cell_type": "code",
   "execution_count": 1,
   "id": "65210f15-48ba-48c6-99b9-23e7111a1bc4",
   "metadata": {},
   "outputs": [],
   "source": [
    "import pandas as pd \n",
    "\n",
    "jeopardy = pd.read_csv('jeopardy.csv')"
   ]
  },
  {
   "cell_type": "code",
   "execution_count": 2,
   "id": "fcfc4644-99ab-4a75-afea-cc4d5d9ed2b1",
   "metadata": {},
   "outputs": [
    {
     "name": "stdout",
     "output_type": "stream",
     "text": [
      "(19999, 7)\n"
     ]
    },
    {
     "data": {
      "text/html": [
       "<div>\n",
       "<style scoped>\n",
       "    .dataframe tbody tr th:only-of-type {\n",
       "        vertical-align: middle;\n",
       "    }\n",
       "\n",
       "    .dataframe tbody tr th {\n",
       "        vertical-align: top;\n",
       "    }\n",
       "\n",
       "    .dataframe thead th {\n",
       "        text-align: right;\n",
       "    }\n",
       "</style>\n",
       "<table border=\"1\" class=\"dataframe\">\n",
       "  <thead>\n",
       "    <tr style=\"text-align: right;\">\n",
       "      <th></th>\n",
       "      <th>Show Number</th>\n",
       "      <th>Air Date</th>\n",
       "      <th>Round</th>\n",
       "      <th>Category</th>\n",
       "      <th>Value</th>\n",
       "      <th>Question</th>\n",
       "      <th>Answer</th>\n",
       "    </tr>\n",
       "  </thead>\n",
       "  <tbody>\n",
       "    <tr>\n",
       "      <th>0</th>\n",
       "      <td>4680</td>\n",
       "      <td>2004-12-31</td>\n",
       "      <td>Jeopardy!</td>\n",
       "      <td>HISTORY</td>\n",
       "      <td>$200</td>\n",
       "      <td>For the last 8 years of his life, Galileo was ...</td>\n",
       "      <td>Copernicus</td>\n",
       "    </tr>\n",
       "    <tr>\n",
       "      <th>1</th>\n",
       "      <td>4680</td>\n",
       "      <td>2004-12-31</td>\n",
       "      <td>Jeopardy!</td>\n",
       "      <td>ESPN's TOP 10 ALL-TIME ATHLETES</td>\n",
       "      <td>$200</td>\n",
       "      <td>No. 2: 1912 Olympian; football star at Carlisl...</td>\n",
       "      <td>Jim Thorpe</td>\n",
       "    </tr>\n",
       "    <tr>\n",
       "      <th>2</th>\n",
       "      <td>4680</td>\n",
       "      <td>2004-12-31</td>\n",
       "      <td>Jeopardy!</td>\n",
       "      <td>EVERYBODY TALKS ABOUT IT...</td>\n",
       "      <td>$200</td>\n",
       "      <td>The city of Yuma in this state has a record av...</td>\n",
       "      <td>Arizona</td>\n",
       "    </tr>\n",
       "    <tr>\n",
       "      <th>3</th>\n",
       "      <td>4680</td>\n",
       "      <td>2004-12-31</td>\n",
       "      <td>Jeopardy!</td>\n",
       "      <td>THE COMPANY LINE</td>\n",
       "      <td>$200</td>\n",
       "      <td>In 1963, live on \"The Art Linkletter Show\", th...</td>\n",
       "      <td>McDonald's</td>\n",
       "    </tr>\n",
       "    <tr>\n",
       "      <th>4</th>\n",
       "      <td>4680</td>\n",
       "      <td>2004-12-31</td>\n",
       "      <td>Jeopardy!</td>\n",
       "      <td>EPITAPHS &amp; TRIBUTES</td>\n",
       "      <td>$200</td>\n",
       "      <td>Signer of the Dec. of Indep., framer of the Co...</td>\n",
       "      <td>John Adams</td>\n",
       "    </tr>\n",
       "  </tbody>\n",
       "</table>\n",
       "</div>"
      ],
      "text/plain": [
       "   Show Number    Air Date      Round                         Category  Value  \\\n",
       "0         4680  2004-12-31  Jeopardy!                          HISTORY   $200   \n",
       "1         4680  2004-12-31  Jeopardy!  ESPN's TOP 10 ALL-TIME ATHLETES   $200   \n",
       "2         4680  2004-12-31  Jeopardy!      EVERYBODY TALKS ABOUT IT...   $200   \n",
       "3         4680  2004-12-31  Jeopardy!                 THE COMPANY LINE   $200   \n",
       "4         4680  2004-12-31  Jeopardy!              EPITAPHS & TRIBUTES   $200   \n",
       "\n",
       "                                            Question      Answer  \n",
       "0  For the last 8 years of his life, Galileo was ...  Copernicus  \n",
       "1  No. 2: 1912 Olympian; football star at Carlisl...  Jim Thorpe  \n",
       "2  The city of Yuma in this state has a record av...     Arizona  \n",
       "3  In 1963, live on \"The Art Linkletter Show\", th...  McDonald's  \n",
       "4  Signer of the Dec. of Indep., framer of the Co...  John Adams  "
      ]
     },
     "execution_count": 2,
     "metadata": {},
     "output_type": "execute_result"
    }
   ],
   "source": [
    "print(jeopardy.shape)\n",
    "jeopardy.head()"
   ]
  },
  {
   "cell_type": "code",
   "execution_count": 3,
   "id": "70b21f65-e07c-4e9a-9178-158ae80aa9b8",
   "metadata": {},
   "outputs": [
    {
     "data": {
      "text/plain": [
       "Index(['Show Number', ' Air Date', ' Round', ' Category', ' Value',\n",
       "       ' Question', ' Answer'],\n",
       "      dtype='object')"
      ]
     },
     "execution_count": 3,
     "metadata": {},
     "output_type": "execute_result"
    }
   ],
   "source": [
    "jeopardy.columns"
   ]
  },
  {
   "cell_type": "code",
   "execution_count": 4,
   "id": "e855a3b0-56da-4caa-9e41-efc0f99bc893",
   "metadata": {},
   "outputs": [
    {
     "data": {
      "text/plain": [
       "Index(['Show_number', 'Air_date', 'Round', 'Category', 'Value', 'Question',\n",
       "       'Answer'],\n",
       "      dtype='object')"
      ]
     },
     "execution_count": 4,
     "metadata": {},
     "output_type": "execute_result"
    }
   ],
   "source": [
    "jeopardy.rename({'Show Number' : 'Show_number', ' Air Date' : 'Air_date', ' Round' :'Round', \n",
    "                ' Category': 'Category', ' Value': 'Value', ' Question': 'Question', ' Answer': 'Answer'}, axis=1, inplace=True)\n",
    "jeopardy.columns"
   ]
  },
  {
   "cell_type": "code",
   "execution_count": 5,
   "id": "91a4245e-a0c7-48c2-ac8f-47ac27e6358f",
   "metadata": {},
   "outputs": [],
   "source": [
    "import re\n",
    "def normalize(message):\n",
    "    message = message.lower()\n",
    "    message = re.sub(r'[^A-Za-z0-9\\s]', '', message)\n",
    "    message = re.sub(r'\\s+' , ' ', message)\n",
    "    return message"
   ]
  },
  {
   "cell_type": "code",
   "execution_count": 6,
   "id": "fdb3d05a-a36f-4437-9193-de1f2e27739d",
   "metadata": {},
   "outputs": [],
   "source": [
    "jeopardy['clean_question'] = jeopardy['Question'].apply(normalize)\n",
    "jeopardy['clean_answer']  = jeopardy['Answer'].apply(normalize)"
   ]
  },
  {
   "cell_type": "code",
   "execution_count": 7,
   "id": "4b22c0cd-45c7-4d1e-8c01-d971901f1553",
   "metadata": {},
   "outputs": [],
   "source": [
    "def clean_convert(message):\n",
    "    message = str(message)\n",
    "    message = re.sub(r'[^A-Za-z0-9\\s]', '', message)\n",
    "    try:\n",
    "        value = int(message)\n",
    "    except Exception:\n",
    "        value = 0 \n",
    "    return value"
   ]
  },
  {
   "cell_type": "code",
   "execution_count": 8,
   "id": "7e6ae4fd-bd65-4db2-bb77-c48f2ca43bbe",
   "metadata": {},
   "outputs": [],
   "source": [
    "jeopardy['clean_value'] = jeopardy['Value'].apply(clean_convert)"
   ]
  },
  {
   "cell_type": "code",
   "execution_count": 9,
   "id": "10906f4f-3a98-4eb2-897b-d48f31a32940",
   "metadata": {},
   "outputs": [],
   "source": [
    "jeopardy['Air_date'] = pd.to_datetime(jeopardy['Air_date'], errors='coerce') "
   ]
  },
  {
   "cell_type": "code",
   "execution_count": 10,
   "id": "17fa7728-2b76-47a6-bcfc-eb8162817b8c",
   "metadata": {},
   "outputs": [
    {
     "data": {
      "text/plain": [
       "Show_number                int64\n",
       "Air_date          datetime64[ns]\n",
       "Round                     object\n",
       "Category                  object\n",
       "Value                     object\n",
       "Question                  object\n",
       "Answer                    object\n",
       "clean_question            object\n",
       "clean_answer              object\n",
       "clean_value                int64\n",
       "dtype: object"
      ]
     },
     "execution_count": 10,
     "metadata": {},
     "output_type": "execute_result"
    }
   ],
   "source": [
    "jeopardy.dtypes"
   ]
  },
  {
   "cell_type": "code",
   "execution_count": 11,
   "id": "eef533dd-4750-43b6-895e-d891dae75772",
   "metadata": {},
   "outputs": [],
   "source": [
    "## How often the answer can be used for a question \n",
    "\n",
    "def answer_in_question(row):\n",
    "    split_answer = row['clean_answer'].split()\n",
    "    split_question = row['clean_question'].split()\n",
    "    match_count = 0 \n",
    "    if 'the' in split_answer:\n",
    "        split_answer.remove('the') \n",
    "    if len(split_answer)==0:\n",
    "        return 0        \n",
    "    for txt in split_answer:\n",
    "        if txt in split_question:\n",
    "            match_count += 1 \n",
    "\n",
    "    return match_count/len(split_answer)\n",
    "\n",
    "    "
   ]
  },
  {
   "cell_type": "code",
   "execution_count": 12,
   "id": "3fb218f3-12be-4e64-8446-ceac00f63cd4",
   "metadata": {},
   "outputs": [],
   "source": [
    "#applying the function above to find out how many times answers are used in question\n",
    "# and their fraction in the total words of the answer\n",
    "jeopardy['answer_in_question'] = jeopardy.apply(answer_in_question, axis=1)"
   ]
  },
  {
   "cell_type": "code",
   "execution_count": 13,
   "id": "6d46d991-18ea-453a-ab8a-4719c574f736",
   "metadata": {},
   "outputs": [
    {
     "data": {
      "text/plain": [
       "np.float64(0.05900196524977763)"
      ]
     },
     "execution_count": 13,
     "metadata": {},
     "output_type": "execute_result"
    }
   ],
   "source": [
    "## finding the mean of the answer_in_question column\n",
    "## this will give indication of how likely an answer is to be in question\n",
    "mean_answer_in_question = jeopardy['answer_in_question'].mean()\n",
    "mean_answer_in_question"
   ]
  },
  {
   "cell_type": "code",
   "execution_count": 14,
   "id": "07e9e7f7-d7c6-4bbc-9dff-bd2f6b740d84",
   "metadata": {},
   "outputs": [
    {
     "data": {
      "text/plain": [
       "np.float64(0.6894031359073245)"
      ]
     },
     "execution_count": 14,
     "metadata": {},
     "output_type": "execute_result"
    }
   ],
   "source": [
    "## Investigating recycled questions. \n",
    "## sorting the dataframe by the air_date column in order to investigate recycled questions\n",
    "\n",
    "question_overlap = []\n",
    "terms_used = set()\n",
    "\n",
    "jeopardy = jeopardy.sort_values(by=['Air_date'], axis=0)\n",
    "\n",
    "for row in jeopardy.iterrows():\n",
    "    row = row[1]\n",
    "    split_question = row['clean_question'].split(' ')\n",
    "    split_question = [word for word in split_question if len(word) >=6]\n",
    "    match_count = 0 \n",
    "    for word in split_question:\n",
    "        if word in terms_used:\n",
    "            match_count +=1\n",
    "        terms_used.add(word)\n",
    "    if len(split_question) > 0:\n",
    "        match_count = match_count/len(split_question)\n",
    "    question_overlap.append(match_count)    \n",
    " \n",
    "jeopardy['question_overlap'] = question_overlap\n",
    "\n",
    "jeopardy['question_overlap'].mean()"
   ]
  },
  {
   "cell_type": "code",
   "execution_count": 15,
   "id": "e198a84e-71e0-4908-84be-85e5ad12c641",
   "metadata": {},
   "outputs": [],
   "source": [
    "## Low versus high value  questions \n",
    "def low_vs_high(row):\n",
    "    if row['clean_value'] > 800:\n",
    "        value = 1\n",
    "    else:\n",
    "        value = 0 \n",
    "    return value\n",
    "\n",
    "jeopardy['high_value'] = jeopardy.apply(low_vs_high, axis = 1)\n"
   ]
  },
  {
   "cell_type": "code",
   "execution_count": 16,
   "id": "9fc63464-f458-46e6-9bbd-45b4e067975d",
   "metadata": {},
   "outputs": [],
   "source": [
    "def word_count(word):\n",
    "    low_count = 0 \n",
    "    high_count = 0 \n",
    "    for row in jeopardy.iterrows():\n",
    "        row = row[1]\n",
    "        split_question = row['clean_question'].split(' ')\n",
    "        if word in split_question:\n",
    "            if row['high_value'] == 1:\n",
    "                high_count += 1\n",
    "            else:\n",
    "                low_count += 1\n",
    "    return high_count, low_count \n",
    "\n"
   ]
  },
  {
   "cell_type": "code",
   "execution_count": 17,
   "id": "9eee647f-5ba0-40a8-bbda-65bb9b064509",
   "metadata": {},
   "outputs": [
    {
     "data": {
      "text/plain": [
       "[(0, 1),\n",
       " (1, 0),\n",
       " (1, 5),\n",
       " (1, 2),\n",
       " (0, 1),\n",
       " (1, 3),\n",
       " (0, 1),\n",
       " (2, 2),\n",
       " (1, 0),\n",
       " (0, 1)]"
      ]
     },
     "execution_count": 17,
     "metadata": {},
     "output_type": "execute_result"
    }
   ],
   "source": [
    "comparison_terms = iter(terms_used)\n",
    "observed_expected = []\n",
    "\n",
    "for _ in range(10):\n",
    "    observed_expected.append(word_count(next(comparison_terms)))\n",
    "    \n",
    "observed_expected"
   ]
  },
  {
   "cell_type": "code",
   "execution_count": 18,
   "id": "edf52d37-c93b-4b12-8784-e871e15e3b5b",
   "metadata": {},
   "outputs": [],
   "source": [
    "##  Applying Chi-square test\n",
    "from scipy.stats import chisquare\n",
    "import numpy as np\n",
    "\n",
    "high_value = jeopardy['high_value']==1\n",
    "high_value_count = high_value.sum()\n",
    "\n",
    "low_value = jeopardy['high_value']==0\n",
    "low_value_count = low_value.sum()\n",
    "\n",
    "chi_squared = []\n",
    "for item in observed_expected:\n",
    "    total = sum(item)\n",
    "    total_prop = total / jeopardy.shape[0]\n",
    "    expected_high = total_prop * high_value_count\n",
    "    expected_low = total_prop * low_value_count\n",
    "\n",
    "    observed = np.array([item[0], item[1]])\n",
    "    expected = np.array([expected_high, expected_low])\n",
    "    chi_squared.append(chisquare(observed, expected))"
   ]
  },
  {
   "cell_type": "code",
   "execution_count": 19,
   "id": "1dd4dc7b-aa32-43dd-8159-f55f1d23ec8f",
   "metadata": {},
   "outputs": [
    {
     "data": {
      "text/plain": [
       "[Power_divergenceResult(statistic=np.float64(0.401962846126884), pvalue=np.float64(0.5260772985705469)),\n",
       " Power_divergenceResult(statistic=np.float64(2.487792117195675), pvalue=np.float64(0.11473257634454047)),\n",
       " Power_divergenceResult(statistic=np.float64(0.42281054506129573), pvalue=np.float64(0.515537958129453)),\n",
       " Power_divergenceResult(statistic=np.float64(0.03188116723440362), pvalue=np.float64(0.8582887163235293)),\n",
       " Power_divergenceResult(statistic=np.float64(0.401962846126884), pvalue=np.float64(0.5260772985705469)),\n",
       " Power_divergenceResult(statistic=np.float64(0.02636443308440769), pvalue=np.float64(0.871013484688921)),\n",
       " Power_divergenceResult(statistic=np.float64(0.401962846126884), pvalue=np.float64(0.5260772985705469)),\n",
       " Power_divergenceResult(statistic=np.float64(0.889754963322559), pvalue=np.float64(0.3455437191483469)),\n",
       " Power_divergenceResult(statistic=np.float64(2.487792117195675), pvalue=np.float64(0.11473257634454047)),\n",
       " Power_divergenceResult(statistic=np.float64(0.401962846126884), pvalue=np.float64(0.5260772985705469))]"
      ]
     },
     "execution_count": 19,
     "metadata": {},
     "output_type": "execute_result"
    }
   ],
   "source": [
    "chi_squared"
   ]
  }
 ],
 "metadata": {
  "kernelspec": {
   "display_name": "Python 3 (ipykernel)",
   "language": "python",
   "name": "python3"
  },
  "language_info": {
   "codemirror_mode": {
    "name": "ipython",
    "version": 3
   },
   "file_extension": ".py",
   "mimetype": "text/x-python",
   "name": "python",
   "nbconvert_exporter": "python",
   "pygments_lexer": "ipython3",
   "version": "3.12.1"
  }
 },
 "nbformat": 4,
 "nbformat_minor": 5
}

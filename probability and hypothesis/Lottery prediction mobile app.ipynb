{
 "cells": [
  {
   "cell_type": "markdown",
   "id": "7eccdc49-aaf3-49ae-b531-e1fa2d13cfd7",
   "metadata": {},
   "source": [
    "#### 6/49 Lottery Ticket Probability \n",
    "The idea behind this simple project is to write a script behind a mobile app development that enables user\n",
    "The probability functions below will enable users to answer the following questions : \n",
    "1. the probability of winning the big prize with a single ticket\n",
    "2. the probability of winning the big prize with 40 different tickets or any other number\n",
    "3. the probability of having at least five to two winning numbers on a single ticket\n",
    "\n",
    "The link to dataset is 'https://www.kaggle.com/datasets/datascienceai/lottery-dataset'"
   ]
  },
  {
   "cell_type": "code",
   "execution_count": 45,
   "id": "b4626863-f985-4d3f-8f5b-4ac1c9be2009",
   "metadata": {},
   "outputs": [],
   "source": [
    "import pandas as pd"
   ]
  },
  {
   "cell_type": "code",
   "execution_count": 46,
   "id": "228c1f0f-7fe3-43de-9cd8-cf7af3287e61",
   "metadata": {},
   "outputs": [],
   "source": [
    "def factorial(n):\n",
    "    total = 1\n",
    "    for i in range(n, 0, -1):\n",
    "        total *= i \n",
    "    return total\n",
    "\n",
    "def combinations(n, k): \n",
    "    n_factorial = factorial(n)\n",
    "    k_factorial = factorial(k)\n",
    "    n_less_k_factorial = factorial(n-k)\n",
    "    return n_factorial/(k_factorial * n_less_k_factorial)"
   ]
  },
  {
   "cell_type": "code",
   "execution_count": 47,
   "id": "42dea105-d01c-42d7-bb08-84d35b6ec7c2",
   "metadata": {},
   "outputs": [],
   "source": [
    "# Probability of winning with one ticket. \n",
    "\n",
    "def one_ticket_probability(): \n",
    "    \"\"\"\n",
    "    A ticket has six numbers between 1-49 taken without replacement\n",
    "    To win a big prize, a playing ticket must match the six numbers drawn\n",
    "    \"\"\"\n",
    "    total_combinations = combinations(49, 6) \n",
    "    successful_outcome = 1 # every ticket will match only one possible combination\n",
    "    percent_probability = (successful_outcome / total_combinations)*100\n",
    "    message = \"Hi there! \\nYou have %.7f%% chance of winning the big price with one ticket\" % percent_probability\n",
    "    return message\n",
    "    "
   ]
  },
  {
   "cell_type": "code",
   "execution_count": 48,
   "id": "88b98749-699c-4d1c-841e-297c47ed401c",
   "metadata": {},
   "outputs": [
    {
     "name": "stdout",
     "output_type": "stream",
     "text": [
      "Hi there! \n",
      "You have 0.0000072% chance of winning the big price with one ticket\n"
     ]
    }
   ],
   "source": [
    "print(one_ticket_probability())"
   ]
  },
  {
   "cell_type": "markdown",
   "id": "51b0b133-f4c4-4c75-8c94-d0a1f94be832",
   "metadata": {},
   "source": [
    "##### Exploring historical winning numbers "
   ]
  },
  {
   "cell_type": "code",
   "execution_count": 49,
   "id": "dffe99b6-5c98-4b96-a39e-035e0c8e7499",
   "metadata": {},
   "outputs": [
    {
     "data": {
      "text/html": [
       "<div>\n",
       "<style scoped>\n",
       "    .dataframe tbody tr th:only-of-type {\n",
       "        vertical-align: middle;\n",
       "    }\n",
       "\n",
       "    .dataframe tbody tr th {\n",
       "        vertical-align: top;\n",
       "    }\n",
       "\n",
       "    .dataframe thead th {\n",
       "        text-align: right;\n",
       "    }\n",
       "</style>\n",
       "<table border=\"1\" class=\"dataframe\">\n",
       "  <thead>\n",
       "    <tr style=\"text-align: right;\">\n",
       "      <th></th>\n",
       "      <th>PRODUCT</th>\n",
       "      <th>DRAW NUMBER</th>\n",
       "      <th>SEQUENCE NUMBER</th>\n",
       "      <th>DRAW DATE</th>\n",
       "      <th>NUMBER DRAWN 1</th>\n",
       "      <th>NUMBER DRAWN 2</th>\n",
       "      <th>NUMBER DRAWN 3</th>\n",
       "      <th>NUMBER DRAWN 4</th>\n",
       "      <th>NUMBER DRAWN 5</th>\n",
       "      <th>NUMBER DRAWN 6</th>\n",
       "      <th>BONUS NUMBER</th>\n",
       "    </tr>\n",
       "  </thead>\n",
       "  <tbody>\n",
       "    <tr>\n",
       "      <th>0</th>\n",
       "      <td>649</td>\n",
       "      <td>1</td>\n",
       "      <td>0</td>\n",
       "      <td>6/12/1982</td>\n",
       "      <td>3</td>\n",
       "      <td>11</td>\n",
       "      <td>12</td>\n",
       "      <td>14</td>\n",
       "      <td>41</td>\n",
       "      <td>43</td>\n",
       "      <td>13</td>\n",
       "    </tr>\n",
       "    <tr>\n",
       "      <th>1</th>\n",
       "      <td>649</td>\n",
       "      <td>2</td>\n",
       "      <td>0</td>\n",
       "      <td>6/19/1982</td>\n",
       "      <td>8</td>\n",
       "      <td>33</td>\n",
       "      <td>36</td>\n",
       "      <td>37</td>\n",
       "      <td>39</td>\n",
       "      <td>41</td>\n",
       "      <td>9</td>\n",
       "    </tr>\n",
       "    <tr>\n",
       "      <th>2</th>\n",
       "      <td>649</td>\n",
       "      <td>3</td>\n",
       "      <td>0</td>\n",
       "      <td>6/26/1982</td>\n",
       "      <td>1</td>\n",
       "      <td>6</td>\n",
       "      <td>23</td>\n",
       "      <td>24</td>\n",
       "      <td>27</td>\n",
       "      <td>39</td>\n",
       "      <td>34</td>\n",
       "    </tr>\n",
       "    <tr>\n",
       "      <th>3</th>\n",
       "      <td>649</td>\n",
       "      <td>4</td>\n",
       "      <td>0</td>\n",
       "      <td>7/3/1982</td>\n",
       "      <td>3</td>\n",
       "      <td>9</td>\n",
       "      <td>10</td>\n",
       "      <td>13</td>\n",
       "      <td>20</td>\n",
       "      <td>43</td>\n",
       "      <td>34</td>\n",
       "    </tr>\n",
       "    <tr>\n",
       "      <th>4</th>\n",
       "      <td>649</td>\n",
       "      <td>5</td>\n",
       "      <td>0</td>\n",
       "      <td>7/10/1982</td>\n",
       "      <td>5</td>\n",
       "      <td>14</td>\n",
       "      <td>21</td>\n",
       "      <td>31</td>\n",
       "      <td>34</td>\n",
       "      <td>47</td>\n",
       "      <td>45</td>\n",
       "    </tr>\n",
       "  </tbody>\n",
       "</table>\n",
       "</div>"
      ],
      "text/plain": [
       "   PRODUCT  DRAW NUMBER  SEQUENCE NUMBER  DRAW DATE  NUMBER DRAWN 1  \\\n",
       "0      649            1                0  6/12/1982               3   \n",
       "1      649            2                0  6/19/1982               8   \n",
       "2      649            3                0  6/26/1982               1   \n",
       "3      649            4                0   7/3/1982               3   \n",
       "4      649            5                0  7/10/1982               5   \n",
       "\n",
       "   NUMBER DRAWN 2  NUMBER DRAWN 3  NUMBER DRAWN 4  NUMBER DRAWN 5  \\\n",
       "0              11              12              14              41   \n",
       "1              33              36              37              39   \n",
       "2               6              23              24              27   \n",
       "3               9              10              13              20   \n",
       "4              14              21              31              34   \n",
       "\n",
       "   NUMBER DRAWN 6  BONUS NUMBER  \n",
       "0              43            13  \n",
       "1              41             9  \n",
       "2              39            34  \n",
       "3              43            34  \n",
       "4              47            45  "
      ]
     },
     "execution_count": 49,
     "metadata": {},
     "output_type": "execute_result"
    }
   ],
   "source": [
    "# Users can explore historical data to determine whether they would have ever won\n",
    "# The csv data below contains all historical big prize winning number sets from 1982 to \n",
    "# 2018 in Canada.\n",
    "\n",
    "df = pd.read_csv(\"649.csv\")\n",
    "df.head()"
   ]
  },
  {
   "cell_type": "code",
   "execution_count": 50,
   "id": "86d0a7c7-f80a-4655-a2bb-4fc8700fa932",
   "metadata": {},
   "outputs": [],
   "source": [
    "#generating the set of all winning numbers from historical \n",
    "winning_numbers = df.apply(lambda row: set(row.iloc[4:10]), axis=1)\n",
    "\n",
    "def check_historical_occurence(ticket_numbers, winning_numbers):\n",
    "    \"\"\"The function checks the users winning set against historical \n",
    "    winning set and prints how many times that has occurred\"\"\"\n",
    "    \n",
    "    user_set = set(ticket_numbers)\n",
    "    times_won = winning_numbers == user_set\n",
    "    total_times_won = sum(times_won)\n",
    "    message = f\"Hi there!!! Your winning number combination has occurred as a winning set {total_times_won} times\"  \n",
    "    return message"
   ]
  },
  {
   "cell_type": "code",
   "execution_count": 51,
   "id": "e6bb8519-d854-447f-94b3-34d822e20931",
   "metadata": {},
   "outputs": [
    {
     "data": {
      "text/plain": [
       "'Hi there!!! Your winning number combination has occurred as a winning set 1 times'"
      ]
     },
     "execution_count": 51,
     "metadata": {},
     "output_type": "execute_result"
    }
   ],
   "source": [
    "set1 = [1,6,23,24,27,39,]\n",
    "set2 = [23, 17, 3, 49, 30, 10]\n",
    "set3 = [5, 14, 21, 31, 34, 47]\n",
    "\n",
    "check_historical_occurence(set3, winning_numbers)"
   ]
  },
  {
   "cell_type": "code",
   "execution_count": 52,
   "id": "f6797eaa-e0df-4d6c-9dfe-12e686383841",
   "metadata": {},
   "outputs": [],
   "source": [
    "def multi_ticket_probability(total_tickets):\n",
    "    \"\"\"\n",
    "    This checks the probability of winning with multiple tickets\n",
    "    \"\"\"\n",
    "    total_outcome = combinations(49, 6)\n",
    "    successful_outcome = total_tickets\n",
    "    probability = (successful_outcome/total_outcome)*100\n",
    "    message = \"Hi there! \\nYou have %.7f%% chance of winning the big price with your ticket\" % probability\n",
    "    return message"
   ]
  },
  {
   "cell_type": "code",
   "execution_count": 53,
   "id": "ae51a438-0db7-4743-a516-d57a4cadfe7f",
   "metadata": {},
   "outputs": [
    {
     "name": "stdout",
     "output_type": "stream",
     "text": [
      "Hi there! \n",
      "You have 0.0000072% chance of winning the big price with your ticket\n",
      "Hi there! \n",
      "You have 0.0000715% chance of winning the big price with your ticket\n",
      "Hi there! \n",
      "You have 0.0007151% chance of winning the big price with your ticket\n",
      "Hi there! \n",
      "You have 0.0715112% chance of winning the big price with your ticket\n",
      "Hi there! \n",
      "You have 7.1511238% chance of winning the big price with your ticket\n",
      "Hi there! \n",
      "You have 50.0000000% chance of winning the big price with your ticket\n",
      "Hi there! \n",
      "You have 100.0000000% chance of winning the big price with your ticket\n"
     ]
    }
   ],
   "source": [
    "number_of_tickets = [1, 10, 100, 10000, 1000000, 6991908, 13983816]\n",
    "for number in number_of_tickets:\n",
    "    print(multi_ticket_probability(number))"
   ]
  },
  {
   "cell_type": "code",
   "execution_count": 54,
   "id": "2637718f-624d-4370-ab97-cf57b25ba4d0",
   "metadata": {},
   "outputs": [],
   "source": [
    "def probability_less_6(no_of_winning):\n",
    "    \"\"\"This function calculates the probability of having 2 to 5\n",
    "    winning numbers in a player's ticket\"\"\"\n",
    "    \n",
    "    total_combinations = combinations(6, no_of_winning) # total combinations of correct winning number\n",
    "    no_remaining_combinations = combinations(43, 6-no_of_winning) #remaining combinations of remaining 43 & 6 ticket no\n",
    "    total_successful_outcome = total_combinations * no_remaining_combinations \n",
    "    probability = total_successful_outcome/combinations(49, 6)\n",
    "    message = f\"Hi there! \\nWith {no_of_winning} numbers, you have {probability*100:.5f}% chance of winning\"\n",
    "    return message"
   ]
  },
  {
   "cell_type": "code",
   "execution_count": 55,
   "id": "4626a224-311f-4b9c-8491-8ebd85724e59",
   "metadata": {},
   "outputs": [
    {
     "name": "stdout",
     "output_type": "stream",
     "text": [
      "Hi there! \n",
      "With 2 numbers, you have 13.23780% chance of winning\n",
      "Hi there! \n",
      "With 3 numbers, you have 1.76504% chance of winning\n",
      "Hi there! \n",
      "With 4 numbers, you have 0.09686% chance of winning\n",
      "Hi there! \n",
      "With 5 numbers, you have 0.00184% chance of winning\n"
     ]
    }
   ],
   "source": [
    "winning_set = [2, 3, 4, 5]\n",
    "for number in winning_set:\n",
    "    print(probability_less_6(number))"
   ]
  },
  {
   "cell_type": "code",
   "execution_count": null,
   "id": "ca70941f-9a8d-4b0a-be7f-cc3ee1aafda0",
   "metadata": {},
   "outputs": [],
   "source": []
  }
 ],
 "metadata": {
  "kernelspec": {
   "display_name": "Python 3 (ipykernel)",
   "language": "python",
   "name": "python3"
  },
  "language_info": {
   "codemirror_mode": {
    "name": "ipython",
    "version": 3
   },
   "file_extension": ".py",
   "mimetype": "text/x-python",
   "name": "python",
   "nbconvert_exporter": "python",
   "pygments_lexer": "ipython3",
   "version": "3.12.1"
  }
 },
 "nbformat": 4,
 "nbformat_minor": 5
}

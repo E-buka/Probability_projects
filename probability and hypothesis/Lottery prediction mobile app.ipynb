{
 "cells": [
  {
   "cell_type": "markdown",
   "id": "7eccdc49-aaf3-49ae-b531-e1fa2d13cfd7",
   "metadata": {},
   "source": [
    "#### 6/49 Lottery Ticket Probability \n",
    "The idea behind this simple project is to write a script behind a mobile app development that enables user\n",
    "The probability functions below will enable users to answer the following questions : \n",
    "1. the probability of winning the big prize with a single ticket\n",
    "2. the probability of winning the big prize with 40 different tickets or any other number\n",
    "3. the probability of having at least five to two winning numbers on a single ticket\n",
    "\n",
    "The link to dataset is 'https://www.kaggle.com/datasets/datascienceai/lottery-dataset'"
   ]
  },
  {
   "cell_type": "code",
   "execution_count": null,
   "id": "b4626863-f985-4d3f-8f5b-4ac1c9be2009",
   "metadata": {},
   "outputs": [],
   "source": [
    "import pandas as pd"
   ]
  },
  {
   "cell_type": "code",
   "execution_count": null,
   "id": "228c1f0f-7fe3-43de-9cd8-cf7af3287e61",
   "metadata": {},
   "outputs": [],
   "source": [
    "def factorial(n):\n",
    "    total = 1\n",
    "    for i in range(n, 0, -1):\n",
    "        total *= i \n",
    "    return total\n",
    "\n",
    "def combinations(n, k): \n",
    "    n_factorial = factorial(n)\n",
    "    k_factorial = factorial(k)\n",
    "    n_less_k_factorial = factorial(n-k)\n",
    "    return n_factorial/(k_factorial * n_less_k_factorial)"
   ]
  },
  {
   "cell_type": "code",
   "execution_count": null,
   "id": "42dea105-d01c-42d7-bb08-84d35b6ec7c2",
   "metadata": {},
   "outputs": [],
   "source": [
    "# Probability of winning with one ticket. \n",
    "\n",
    "def one_ticket_probability(): \n",
    "    \"\"\"\n",
    "    A ticket has six numbers between 1-49 taken without replacement\n",
    "    To win a big prize, a playing ticket must match the six numbers drawn\n",
    "    \"\"\"\n",
    "    total_combinations = combinations(49, 6) \n",
    "    successful_outcome = 1 # every ticket will match only one possible combination\n",
    "    percent_probability = (successful_outcome / total_combinations)*100\n",
    "    message = \"Hi there! \\nYou have %.7f%% chance of winning the big price with one ticket\" % percent_probability\n",
    "    return message\n",
    "    "
   ]
  },
  {
   "cell_type": "code",
   "execution_count": null,
   "id": "88b98749-699c-4d1c-841e-297c47ed401c",
   "metadata": {},
   "outputs": [],
   "source": [
    "print(one_ticket_probability())"
   ]
  },
  {
   "cell_type": "markdown",
   "id": "51b0b133-f4c4-4c75-8c94-d0a1f94be832",
   "metadata": {},
   "source": [
    "##### Exploring historical winning numbers "
   ]
  },
  {
   "cell_type": "code",
   "execution_count": null,
   "id": "dffe99b6-5c98-4b96-a39e-035e0c8e7499",
   "metadata": {},
   "outputs": [],
   "source": [
    "# Users can explore historical data to determine whether they would have ever won\n",
    "# The csv data below contains all historical big prize winning number sets from 1982 to \n",
    "# 2018 in Canada https://www.kaggle.com/datasets/datascienceai/lottery-dataset.\n",
    "\n",
    "df = pd.read_csv(\"649.csv\")\n",
    "df.head()"
   ]
  },
  {
   "cell_type": "code",
   "execution_count": null,
   "id": "86d0a7c7-f80a-4655-a2bb-4fc8700fa932",
   "metadata": {},
   "outputs": [],
   "source": [
    "#generating the set of all winning numbers from historical \n",
    "winning_numbers = df.apply(lambda row: set(row.iloc[4:10]), axis=1)\n",
    "\n",
    "def check_historical_occurence(ticket_numbers, winning_numbers):\n",
    "    \"\"\"The function checks the users winning set against historical \n",
    "    winning set and prints how many times that has occurred\"\"\"\n",
    "    \n",
    "    user_set = set(ticket_numbers)\n",
    "    times_won = winning_numbers == user_set\n",
    "    total_times_won = sum(times_won)\n",
    "    message = f\"Hi there!!! Your winning number combination has occurred as a winning set {total_times_won} times\"  \n",
    "    return message"
   ]
  },
  {
   "cell_type": "code",
   "execution_count": null,
   "id": "e6bb8519-d854-447f-94b3-34d822e20931",
   "metadata": {},
   "outputs": [],
   "source": [
    "set1 = [1,6,23,24,27,39,]\n",
    "set2 = [23, 17, 3, 49, 30, 10]\n",
    "set3 = [5, 14, 21, 31, 34, 47]\n",
    "\n",
    "check_historical_occurence(set3, winning_numbers)"
   ]
  },
  {
   "cell_type": "code",
   "execution_count": null,
   "id": "f6797eaa-e0df-4d6c-9dfe-12e686383841",
   "metadata": {},
   "outputs": [],
   "source": [
    "def multi_ticket_probability(total_tickets):\n",
    "    \"\"\"\n",
    "    This checks the probability of winning with multiple tickets\n",
    "    \"\"\"\n",
    "    total_outcome = combinations(49, 6)\n",
    "    successful_outcome = total_tickets\n",
    "    probability = (successful_outcome/total_outcome)*100\n",
    "    message = \"Hi there! \\nYou have %.7f%% chance of winning the big price with your ticket\" % probability\n",
    "    return message"
   ]
  },
  {
   "cell_type": "code",
   "execution_count": null,
   "id": "ae51a438-0db7-4743-a516-d57a4cadfe7f",
   "metadata": {},
   "outputs": [],
   "source": [
    "number_of_tickets = [1, 10, 100, 10000, 1000000, 6991908, 13983816]\n",
    "for number in number_of_tickets:\n",
    "    print(multi_ticket_probability(number))"
   ]
  },
  {
   "cell_type": "code",
   "execution_count": null,
   "id": "2637718f-624d-4370-ab97-cf57b25ba4d0",
   "metadata": {},
   "outputs": [],
   "source": [
    "def probability_less_6(no_of_winning):\n",
    "    \"\"\"This function calculates the probability of having 2 to 5\n",
    "    winning numbers in a player's ticket\"\"\"\n",
    "    \n",
    "    total_combinations = combinations(6, no_of_winning) # total combinations of correct winning number\n",
    "    no_remaining_combinations = combinations(43, 6-no_of_winning) #remaining combinations of remaining 43 & 6 ticket no\n",
    "    total_successful_outcome = total_combinations * no_remaining_combinations \n",
    "    probability = total_successful_outcome/combinations(49, 6)\n",
    "    message = f\"Hi there! \\nWith {no_of_winning} numbers, you have {probability*100:.5f}% chance of winning\"\n",
    "    return message"
   ]
  },
  {
   "cell_type": "code",
   "execution_count": null,
   "id": "4626a224-311f-4b9c-8491-8ebd85724e59",
   "metadata": {},
   "outputs": [],
   "source": [
    "winning_set = [2, 3, 4, 5]\n",
    "\n",
    "for number in winning_set:\n",
    "    print(probability_less_6(number))\n",
    "    print('------------------\\n')"
   ]
  }
 ],
 "metadata": {
  "kernelspec": {
   "display_name": "Python 3 (ipykernel)",
   "language": "python",
   "name": "python3"
  },
  "language_info": {
   "codemirror_mode": {
    "name": "ipython",
    "version": 3
   },
   "file_extension": ".py",
   "mimetype": "text/x-python",
   "name": "python",
   "nbconvert_exporter": "python",
   "pygments_lexer": "ipython3",
   "version": "3.12.1"
  }
 },
 "nbformat": 4,
 "nbformat_minor": 5
}
